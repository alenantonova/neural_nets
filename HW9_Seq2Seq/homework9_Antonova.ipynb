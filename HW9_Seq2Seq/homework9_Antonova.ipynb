{
 "cells": [
  {
   "cell_type": "markdown",
   "metadata": {},
   "source": [
    "## Домашнее задание, вычисление аддитивного аттеншна"
   ]
  },
  {
   "cell_type": "markdown",
   "metadata": {},
   "source": [
    "готовый ноутбук слать на o.shlyazhko@corp.mail.ru с заголовком \"Домашнее задание по лекции seq2seq (Ваши Фамилия и Имя)\""
   ]
  },
  {
   "cell_type": "code",
   "execution_count": 1,
   "metadata": {},
   "outputs": [
    {
     "name": "stdout",
     "output_type": "stream",
     "text": [
      "CUDA\n"
     ]
    }
   ],
   "source": [
    "from tqdm import tqdm_notebook\n",
    "from io import open\n",
    "import unicodedata\n",
    "import string\n",
    "import re\n",
    "import random\n",
    "import time\n",
    "import math\n",
    "\n",
    "import matplotlib.pyplot as plt\n",
    "plt.switch_backend('agg')\n",
    "import matplotlib.ticker as ticker\n",
    "import numpy as np\n",
    "\n",
    "import torch\n",
    "import torch.nn as nn\n",
    "from torch import optim\n",
    "import torch.nn.functional as F\n",
    "\n",
    "if torch.cuda.is_available():\n",
    "    print('CUDA')\n",
    "device = torch.device(\"cuda\" if torch.cuda.is_available() else \"cpu\")"
   ]
  },
  {
   "cell_type": "code",
   "execution_count": 2,
   "metadata": {},
   "outputs": [],
   "source": [
    "SOS_token = 0\n",
    "EOS_token = 1\n",
    "\n",
    "class Lang:\n",
    "    def __init__(self, name):\n",
    "        self.name = name\n",
    "        self.word2index = {}\n",
    "        self.word2count = {}\n",
    "        self.index2word = {SOS_token: \"SOS\", EOS_token: \"EOS\"}\n",
    "        self.n_words = len(self.index2word)\n",
    "\n",
    "    def addSentence(self, sentence):\n",
    "        for word in sentence.split(' '):\n",
    "            self.addWord(word)\n",
    "\n",
    "    def addWord(self, word):\n",
    "        if word not in self.word2index:\n",
    "            self.word2index[word] = self.n_words\n",
    "            self.word2count[word] = 1\n",
    "            self.index2word[self.n_words] = word\n",
    "            self.n_words += 1\n",
    "        else:\n",
    "            self.word2count[word] += 1"
   ]
  },
  {
   "cell_type": "code",
   "execution_count": 3,
   "metadata": {},
   "outputs": [
    {
     "name": "stdout",
     "output_type": "stream",
     "text": [
      "она экономически независима от своих родителей .\tshe is economically independent of her parents .\r\n",
      "она направила наши усилия в нужном направлении .\tshe steered our efforts in the right direction .\r\n",
      "на этом заводе производят телевизоры .\tthey are manufacturing tv sets in this factory .\r\n",
      "она всегда жалуется из за моей маленькой зарплаты .\tshe is always complaining about my small salary .\r\n",
      "они стоят там и едят чипсы .\tthey are standing there and eating potato chips .\r\n",
      "мне не удаётся скомпилировать эту программу .\ti m having some problems compiling this software .\r\n",
      "она улыбнулась в ответ на его нежный взгляд .\tshe smiled in response to his affectionate glance .\r\n",
      "она проводит каждое воскресенье со своей бабушкой .\tshe spends time with her grandmother every sunday .\r\n",
      "каждую субботу после обеда она играет в теннис .\tshe spends every saturday afternoon playing tennis .\r\n",
      "после аварии она перестала бывать на людях .\tshe stopped appearing in public after her accident .\r\n"
     ]
    }
   ],
   "source": [
    "!tail rus_eng_small.txt"
   ]
  },
  {
   "cell_type": "code",
   "execution_count": 4,
   "metadata": {},
   "outputs": [],
   "source": [
    "def readLangs():\n",
    "    print(\"Loading dataset...\")\n",
    "    pairs = []\n",
    "    # Read the file and split into lines\n",
    "    with open('rus_eng_small.txt') as f:\n",
    "        for l in tqdm_notebook(f):\n",
    "            pair = [s for s in l.rstrip('\\n').split('\\t')]\n",
    "            pairs.append(pair)\n",
    "\n",
    "    return Lang('rus'), Lang('eng'), pairs"
   ]
  },
  {
   "cell_type": "code",
   "execution_count": 5,
   "metadata": {},
   "outputs": [
    {
     "name": "stdout",
     "output_type": "stream",
     "text": [
      "Loading dataset...\n"
     ]
    },
    {
     "data": {
      "application/vnd.jupyter.widget-view+json": {
       "model_id": "b3852d34985a48f5a5830ead04624702",
       "version_major": 2,
       "version_minor": 0
      },
      "text/plain": [
       "HBox(children=(IntProgress(value=1, bar_style='info', max=1), HTML(value='')))"
      ]
     },
     "metadata": {},
     "output_type": "display_data"
    },
    {
     "name": "stdout",
     "output_type": "stream",
     "text": [
      "\n",
      "Read 19288 sentence pairs\n",
      "Counting words...\n",
      "Counted words:\n",
      "rus 8960\n",
      "eng 3914\n",
      "['я уже в пижаме .', 'i m already in my pajamas .']\n"
     ]
    }
   ],
   "source": [
    "def prepareData():\n",
    "    input_lang, output_lang, pairs = readLangs()\n",
    "    print(\"Read %s sentence pairs\" % len(pairs))\n",
    "    print(\"Counting words...\")\n",
    "    for pair in pairs:\n",
    "        input_lang.addSentence(pair[0])\n",
    "        output_lang.addSentence(pair[1])\n",
    "    print(\"Counted words:\")\n",
    "    print(input_lang.name, input_lang.n_words)\n",
    "    print(output_lang.name, output_lang.n_words)\n",
    "    return input_lang, output_lang, pairs\n",
    "\n",
    "\n",
    "input_lang, output_lang, pairs = prepareData()\n",
    "MAX_LENGTH = 10\n",
    "print(random.choice(pairs))"
   ]
  },
  {
   "cell_type": "code",
   "execution_count": 6,
   "metadata": {},
   "outputs": [],
   "source": [
    "def indexesFromSentence(lang, sentence):\n",
    "    return [lang.word2index[word] for word in sentence.split(' ')]\n",
    "\n",
    "\n",
    "def tensorFromSentence(lang, sentence):\n",
    "    indexes = indexesFromSentence(lang, sentence)\n",
    "    indexes.append(EOS_token)\n",
    "    return torch.tensor(indexes, dtype=torch.long, device=device).view(-1, 1)\n",
    "\n",
    "\n",
    "def tensorsFromPair(pair):\n",
    "    input_tensor = tensorFromSentence(input_lang, pair[0])\n",
    "    target_tensor = tensorFromSentence(output_lang, pair[1])\n",
    "    return (input_tensor, target_tensor)"
   ]
  },
  {
   "cell_type": "code",
   "execution_count": 7,
   "metadata": {},
   "outputs": [],
   "source": [
    "class EncoderRNN(nn.Module):\n",
    "    def __init__(self, input_size, nlayers, hidden_size):\n",
    "        super().__init__()\n",
    "        self.hidden_size = hidden_size\n",
    "        self.nlayers = nlayers\n",
    "\n",
    "        self.embedding = nn.Embedding(input_size, hidden_size)\n",
    "        self.rnn = nn.LSTM(hidden_size, hidden_size, nlayers)\n",
    "\n",
    "    def forward(self, x, hidden):\n",
    "        embedded = self.embedding(x)\n",
    "        output, hidden = self.rnn(embedded, hidden)\n",
    "        return output, hidden\n",
    "\n",
    "    def initHidden(self):\n",
    "        return torch.zeros(self.nlayers, 1, self.hidden_size, device=device), \\\n",
    "               torch.zeros(self.nlayers, 1, self.hidden_size, device=device)"
   ]
  },
  {
   "cell_type": "markdown",
   "metadata": {},
   "source": [
    "## Заполните метод вычисления аддитивного аттеншна в ячейке ниже."
   ]
  },
  {
   "cell_type": "markdown",
   "metadata": {},
   "source": [
    "готовый ноутбук слать на o.shlyazhko@corp.mail.ru с заголовком \"Домашнее задание по лекции seq2seq (Ваши Фамилия и Имя)\""
   ]
  },
  {
   "cell_type": "code",
   "execution_count": 8,
   "metadata": {},
   "outputs": [],
   "source": [
    "class AttnDecoder(nn.Module):\n",
    "    \"\"\"\n",
    "    Декодер с механизмом внимания dot-product attention\n",
    "    T1 - шаги входной последовательности\n",
    "    T2 - шаги выходной последовательности\n",
    "    \"\"\"\n",
    "    def __init__(self, hidden_size, nlayers, output_size, dropout_p=0.4):\n",
    "        \"\"\"\n",
    "        :param hidden_size - размер вектора состояния рекуррентного слоя\n",
    "        :param nlayers - число рекуррентных слоев\n",
    "        :param output_size - размер словаря выходных текстов\n",
    "        \"\"\"\n",
    "        super().__init__()\n",
    "        self.hidden_size = hidden_size\n",
    "        self.nlayers = nlayers\n",
    "        self.output_size = output_size\n",
    "\n",
    "        self.embedding = nn.Embedding(self.output_size, self.hidden_size)\n",
    "        self.attn_combine = nn.Linear(self.hidden_size * 2, self.hidden_size)\n",
    "        \n",
    "        self.dropout = nn.Dropout(dropout_p)\n",
    "        \n",
    "        self.W = nn.Linear(self.hidden_size * 2, self.hidden_size)\n",
    "        self.v = nn.Linear(self.hidden_size, 1)\n",
    "        \n",
    "        self.attn_tanh = nn.Tanh()\n",
    "        self.softmax = nn.LogSoftmax(dim=-2)\n",
    "        \n",
    "        self.rnn = nn.LSTM(self.hidden_size, self.hidden_size, nlayers)\n",
    "        self.out = nn.Linear(self.hidden_size, self.output_size)\n",
    "        \n",
    "\n",
    "    def forward(self, x, hidden, encoder_outputs):\n",
    "        \"\"\"\n",
    "        :param x: [T2,B] - входной тензор с предыдущими словами размерностью timestep на batch\n",
    "        :param hidden [1, B, C] - состояние рнн слоя\n",
    "        :param encoder_outputs [T1,B,C] - выходы всех шагов энкодера\n",
    "        :return output: [T2,B,C], hidden - С=hidden_size, возвращается только последний hidden state\n",
    "        \"\"\"\n",
    "        embedded = self.embedding(x) # [T2,B,C]\n",
    "        encoder_outputs = encoder_outputs.transpose(0, 1) # [B,T1,C]\n",
    "        outputs = []\n",
    "        \n",
    "        for i in range(x.size(0)):\n",
    "            h_t = hidden[0].transpose(0, 1).transpose(1, -1) # [B, C, 1]\n",
    "\n",
    "            context, attn_weights = self.attention(encoder_outputs, h_t)\n",
    "        \n",
    "            e = embedded[i].unsqueeze(0)\n",
    "            output = torch.cat((e, context), dim=-1) # [[B,1,C];[B,1,C]] -> [B,1,C*2]\n",
    "            output = self.attn_combine(output).transpose(0,1) # [B,1,C*2] * [C*2,C] = [B,1,C] -transpose-> [1,B,C]\n",
    "            output = F.relu(output)\n",
    "            output, hidden = self.rnn(output, hidden)\n",
    "\n",
    "            logits = self.out(output)\n",
    "            output = F.log_softmax(logits, dim=-1)\n",
    "            outputs.append(output)\n",
    "            \n",
    "        output = torch.cat(outputs, dim=0)\n",
    "        return output, hidden, attn_weights\n",
    "\n",
    "    def attention(self, encoder_outputs, h):\n",
    "        T1 = encoder_outputs.size()[1]\n",
    "        \n",
    "        h_T = h.transpose(-1, 1).repeat(1, T1, 1)\n",
    "        hs = torch.cat((encoder_outputs, h_T), dim=2)\n",
    "\n",
    "        activated = self.attn_tanh(self.W(hs))\n",
    "        attn_weights = self.softmax(self.v(activated))\n",
    "        \n",
    "        attn_weights_T = attn_weights.transpose(1, -1)\n",
    "        context = torch.bmm(attn_weights_T, encoder_outputs)\n",
    "\n",
    "        return context, attn_weights"
   ]
  },
  {
   "cell_type": "code",
   "execution_count": 9,
   "metadata": {},
   "outputs": [],
   "source": [
    "def train(input_tensor, target_tensor, \n",
    "          encoder, decoder, \n",
    "          optimizer,  criterion, max_length=MAX_LENGTH):\n",
    "    \n",
    "    encoder_hidden = encoder.initHidden()\n",
    "\n",
    "    optimizer.zero_grad()\n",
    "\n",
    "    input_length = input_tensor.size(0)\n",
    "    target_length = target_tensor.size(0)\n",
    "\n",
    "    loss = 0\n",
    "\n",
    "    encoder_outputs, encoder_hidden = encoder(input_tensor, encoder_hidden)\n",
    "\n",
    "    decoder_input = torch.tensor([[SOS_token]], device=device)\n",
    "\n",
    "    decoder_hidden = encoder_hidden\n",
    "    \n",
    "    if teacher_forcing_ratio == 1.: # use fast parallel mode\n",
    "        decoder_input = torch.cat([decoder_input, target_tensor[:-1]], dim=0)\n",
    "        decoder_outputs, decoder_hidden, decoder_attention = decoder(decoder_input, decoder_hidden, encoder_outputs)\n",
    "        decoder_outputs = decoder_outputs.squeeze()\n",
    "        loss += criterion(decoder_outputs, target_tensor.squeeze())\n",
    "        loss_value = loss.item()\n",
    "    else:\n",
    "        for di in range(target_length):\n",
    "            use_teacher_forcing = True if random.random() < teacher_forcing_ratio else False\n",
    "            decoder_output, decoder_hidden, decoder_attention = decoder(decoder_input, decoder_hidden, encoder_outputs)\n",
    "            decoder_output = decoder_output.view(decoder_output.size(0), -1)\n",
    "            loss += criterion(decoder_output, target_tensor[di])\n",
    "            if use_teacher_forcing:\n",
    "                decoder_input = target_tensor[di].unsqueeze(0)  # Teacher forcing\n",
    "            else:\n",
    "                topv, topi = decoder_output.topk(1)\n",
    "                decoder_input = topi.detach()\n",
    "        loss_value =  loss.item() / target_length\n",
    "\n",
    "    loss.backward()\n",
    "\n",
    "    optimizer.step()\n",
    "\n",
    "    return loss_value"
   ]
  },
  {
   "cell_type": "code",
   "execution_count": 10,
   "metadata": {},
   "outputs": [],
   "source": [
    "def as_minutes(s):\n",
    "    m = math.floor(s / 60)\n",
    "    s -= m * 60\n",
    "    return '%dm %ds' % (m, s)\n",
    "\n",
    "def time_since(since, percent):\n",
    "    now = time.time()\n",
    "    s = now - since\n",
    "    es = s / (percent)\n",
    "    rs = es - s\n",
    "    return '%s (- %s)' % (as_minutes(s), as_minutes(rs))"
   ]
  },
  {
   "cell_type": "code",
   "execution_count": 11,
   "metadata": {},
   "outputs": [],
   "source": [
    "def show_plot(points):\n",
    "    plt.figure()\n",
    "    fig, ax = plt.subplots()\n",
    "    # this locator puts ticks at regular intervals\n",
    "    loc = ticker.MultipleLocator(base=0.2)\n",
    "    ax.yaxis.set_major_locator(loc)\n",
    "    plt.plot(points)"
   ]
  },
  {
   "cell_type": "code",
   "execution_count": 12,
   "metadata": {},
   "outputs": [],
   "source": [
    "def run_training(encoder, decoder, n_iters, print_every=1000, plot_every=100):\n",
    "    print('Train')\n",
    "    start = time.time()\n",
    "    plot_losses = []\n",
    "    print_loss_total = 0  # Reset every print_every\n",
    "    plot_loss_total = 0  # Reset every plot_every\n",
    "\n",
    "    for iter in range(1, n_iters + 1):\n",
    "        training_pair = training_pairs[iter - 1]\n",
    "        input_tensor = training_pair[0]\n",
    "        target_tensor = training_pair[1]\n",
    "\n",
    "        loss = train(input_tensor, target_tensor, encoder, decoder, optimizer, criterion)\n",
    "        print_loss_total += loss\n",
    "        plot_loss_total += loss\n",
    "\n",
    "        if iter % print_every == 0:\n",
    "            print_loss_avg = print_loss_total / print_every\n",
    "            print_loss_total = 0\n",
    "            dt = time_since(start, iter / n_iters)\n",
    "            print('%s (%d %d%%) %.4f' % (dt, iter, iter / n_iters * 100, print_loss_avg))\n",
    "\n",
    "        if iter % plot_every == 0:\n",
    "            plot_loss_avg = plot_loss_total / plot_every\n",
    "            plot_losses.append(plot_loss_avg)\n",
    "            plot_loss_total = 0\n",
    "\n",
    "    show_plot(plot_losses)"
   ]
  },
  {
   "cell_type": "code",
   "execution_count": 13,
   "metadata": {},
   "outputs": [],
   "source": [
    "def evaluate(encoder, decoder, sentence, max_length=MAX_LENGTH):\n",
    "    with torch.no_grad():\n",
    "        input_tensor = tensorFromSentence(input_lang, sentence)\n",
    "        input_length = input_tensor.size()[0]\n",
    "        \n",
    "        encoder_hidden = encoder.initHidden()\n",
    "        encoder_outputs, encoder_hidden = encoder(input_tensor, encoder_hidden)\n",
    "\n",
    "        decoder_input = torch.tensor([[SOS_token]], device=device)\n",
    "        decoder_hidden = encoder_hidden # STATE TRANSFER\n",
    "    \n",
    "        decoded_words = []\n",
    "        decoder_attentions = []\n",
    "        for di in range(max_length):\n",
    "            use_teacher_forcing = True if random.random() < teacher_forcing_ratio else False\n",
    "            decoder_output, decoder_hidden, decoder_attention = decoder(decoder_input, decoder_hidden, encoder_outputs)\n",
    "            decoder_attentions.append(decoder_attention)\n",
    "            decoder_output = decoder_output.view(decoder_output.size(0), -1)\n",
    "            topv, topi = decoder_output.topk(1)\n",
    "            decoder_input = topi.detach()\n",
    "            if topi.item() == EOS_token:\n",
    "                break\n",
    "            word = output_lang.index2word[topi.item()]\n",
    "            decoded_words.append(word)\n",
    "\n",
    "        return decoded_words, decoder_attentions"
   ]
  },
  {
   "cell_type": "code",
   "execution_count": 14,
   "metadata": {},
   "outputs": [],
   "source": [
    "def evaluate_randomly(encoder, decoder, n=10):\n",
    "    for i in range(n):\n",
    "        pair = random.choice(pairs)\n",
    "        print('>', pair[0])\n",
    "        print('=', pair[1])\n",
    "        output_words, attentions = evaluate(encoder, decoder, pair[0])\n",
    "        output_sentence = ' '.join(output_words)\n",
    "        print('<', output_sentence)\n",
    "        print('')"
   ]
  },
  {
   "cell_type": "code",
   "execution_count": 15,
   "metadata": {},
   "outputs": [
    {
     "data": {
      "application/vnd.jupyter.widget-view+json": {
       "model_id": "0e40cd9638644a26bb7ec3c92ee6618a",
       "version_major": 2,
       "version_minor": 0
      },
      "text/plain": [
       "HBox(children=(IntProgress(value=0, description='prepare set', max=50000, style=ProgressStyle(description_widt…"
      ]
     },
     "metadata": {},
     "output_type": "display_data"
    },
    {
     "name": "stdout",
     "output_type": "stream",
     "text": [
      "\n"
     ]
    }
   ],
   "source": [
    "n_iters=50000\n",
    "training_pairs = [tensorsFromPair(random.choice(pairs)) for i in tqdm_notebook(range(n_iters), desc='prepare set')]"
   ]
  },
  {
   "cell_type": "code",
   "execution_count": 16,
   "metadata": {},
   "outputs": [],
   "source": [
    "hidden_size = 256\n",
    "encoder = EncoderRNN(input_lang.n_words, 1, hidden_size).to(device)\n",
    "decoder = AttnDecoder(hidden_size, 1, output_lang.n_words).to(device)"
   ]
  },
  {
   "cell_type": "code",
   "execution_count": 17,
   "metadata": {},
   "outputs": [],
   "source": [
    "teacher_forcing_ratio = 1.\n",
    "learning_rate=0.001\n",
    "optimizer = optim.Adam(list(encoder.parameters())+list(decoder.parameters()), lr=learning_rate)\n",
    "criterion = nn.NLLLoss()"
   ]
  },
  {
   "cell_type": "markdown",
   "metadata": {},
   "source": [
    "### Не забудьте запустить тренировку в ячейке ниже, а затем и evaluation"
   ]
  },
  {
   "cell_type": "code",
   "execution_count": 18,
   "metadata": {},
   "outputs": [
    {
     "name": "stdout",
     "output_type": "stream",
     "text": [
      "Train\n",
      "0m 12s (- 20m 20s) (500 1%) 3.5761\n",
      "0m 24s (- 20m 14s) (1000 2%) 3.0661\n",
      "0m 34s (- 18m 21s) (1500 3%) 2.8498\n",
      "0m 45s (- 18m 4s) (2000 4%) 2.6853\n",
      "0m 56s (- 17m 50s) (2500 5%) 2.5707\n",
      "1m 8s (- 18m 0s) (3000 6%) 2.5689\n",
      "1m 19s (- 17m 34s) (3500 7%) 2.4362\n",
      "1m 31s (- 17m 31s) (4000 8%) 2.4449\n",
      "1m 41s (- 17m 6s) (4500 9%) 2.4193\n",
      "1m 51s (- 16m 46s) (5000 10%) 2.2731\n",
      "2m 0s (- 16m 18s) (5500 11%) 2.3076\n",
      "2m 11s (- 16m 4s) (6000 12%) 2.2222\n",
      "2m 22s (- 15m 56s) (6500 13%) 2.2360\n",
      "2m 35s (- 15m 53s) (7000 14%) 2.1996\n",
      "2m 47s (- 15m 47s) (7500 15%) 2.1442\n",
      "2m 57s (- 15m 33s) (8000 16%) 2.1443\n",
      "3m 8s (- 15m 18s) (8500 17%) 2.1209\n",
      "3m 19s (- 15m 10s) (9000 18%) 2.1151\n",
      "3m 31s (- 15m 3s) (9500 19%) 2.0404\n",
      "3m 42s (- 14m 48s) (10000 20%) 2.0205\n",
      "3m 54s (- 14m 40s) (10500 21%) 2.0535\n",
      "4m 6s (- 14m 32s) (11000 22%) 1.9448\n",
      "4m 16s (- 14m 17s) (11500 23%) 1.9865\n",
      "4m 28s (- 14m 9s) (12000 24%) 1.9761\n",
      "4m 40s (- 14m 2s) (12500 25%) 1.9603\n",
      "4m 53s (- 13m 54s) (13000 26%) 1.9562\n",
      "5m 4s (- 13m 43s) (13500 27%) 1.8571\n",
      "5m 14s (- 13m 29s) (14000 28%) 1.8863\n",
      "5m 25s (- 13m 16s) (14500 28%) 1.9877\n",
      "5m 33s (- 12m 57s) (15000 30%) 1.9033\n",
      "5m 42s (- 12m 41s) (15500 31%) 1.9403\n",
      "5m 50s (- 12m 24s) (16000 32%) 1.8087\n",
      "5m 58s (- 12m 7s) (16500 33%) 1.8281\n",
      "6m 8s (- 11m 56s) (17000 34%) 1.8311\n",
      "6m 18s (- 11m 42s) (17500 35%) 1.8233\n",
      "6m 27s (- 11m 28s) (18000 36%) 1.7572\n",
      "6m 35s (- 11m 13s) (18500 37%) 1.8883\n",
      "6m 43s (- 10m 58s) (19000 38%) 1.7745\n",
      "6m 51s (- 10m 44s) (19500 39%) 1.7119\n",
      "6m 59s (- 10m 29s) (20000 40%) 1.7834\n",
      "7m 8s (- 10m 16s) (20500 41%) 1.6801\n",
      "7m 17s (- 10m 4s) (21000 42%) 1.6721\n",
      "7m 28s (- 9m 54s) (21500 43%) 1.8243\n",
      "7m 40s (- 9m 45s) (22000 44%) 1.7558\n",
      "7m 52s (- 9m 37s) (22500 45%) 1.7521\n",
      "8m 3s (- 9m 27s) (23000 46%) 1.7123\n",
      "8m 16s (- 9m 19s) (23500 47%) 1.7480\n",
      "8m 27s (- 9m 10s) (24000 48%) 1.6695\n",
      "8m 37s (- 8m 58s) (24500 49%) 1.6814\n",
      "8m 45s (- 8m 45s) (25000 50%) 1.6668\n",
      "8m 53s (- 8m 32s) (25500 51%) 1.7124\n",
      "9m 2s (- 8m 21s) (26000 52%) 1.7154\n",
      "9m 10s (- 8m 8s) (26500 53%) 1.7727\n",
      "9m 20s (- 7m 57s) (27000 54%) 1.6985\n",
      "9m 30s (- 7m 46s) (27500 55%) 1.6847\n",
      "9m 40s (- 7m 35s) (28000 56%) 1.6770\n",
      "9m 49s (- 7m 24s) (28500 56%) 1.6289\n",
      "9m 59s (- 7m 14s) (29000 57%) 1.6635\n",
      "10m 10s (- 7m 4s) (29500 59%) 1.7273\n",
      "10m 19s (- 6m 53s) (30000 60%) 1.6193\n",
      "10m 29s (- 6m 42s) (30500 61%) 1.6772\n",
      "10m 41s (- 6m 33s) (31000 62%) 1.6544\n",
      "10m 52s (- 6m 23s) (31500 63%) 1.6975\n",
      "11m 2s (- 6m 12s) (32000 64%) 1.6749\n",
      "11m 13s (- 6m 2s) (32500 65%) 1.7046\n",
      "11m 27s (- 5m 54s) (33000 66%) 1.6312\n",
      "11m 38s (- 5m 44s) (33500 67%) 1.5821\n",
      "11m 49s (- 5m 33s) (34000 68%) 1.6768\n",
      "11m 59s (- 5m 23s) (34500 69%) 1.6688\n",
      "12m 10s (- 5m 13s) (35000 70%) 1.7469\n",
      "12m 20s (- 5m 2s) (35500 71%) 1.6468\n",
      "12m 31s (- 4m 52s) (36000 72%) 1.6585\n",
      "12m 41s (- 4m 41s) (36500 73%) 1.6967\n",
      "12m 50s (- 4m 30s) (37000 74%) 1.6591\n",
      "12m 59s (- 4m 19s) (37500 75%) 1.6324\n",
      "13m 7s (- 4m 8s) (38000 76%) 1.5572\n",
      "13m 17s (- 3m 58s) (38500 77%) 1.5747\n",
      "13m 28s (- 3m 47s) (39000 78%) 1.5710\n",
      "13m 38s (- 3m 37s) (39500 79%) 1.5968\n",
      "13m 49s (- 3m 27s) (40000 80%) 1.5965\n",
      "13m 57s (- 3m 16s) (40500 81%) 1.5432\n",
      "14m 5s (- 3m 5s) (41000 82%) 1.6023\n",
      "14m 18s (- 2m 55s) (41500 83%) 1.5892\n",
      "14m 33s (- 2m 46s) (42000 84%) 1.6020\n",
      "14m 42s (- 2m 35s) (42500 85%) 1.5468\n",
      "14m 51s (- 2m 25s) (43000 86%) 1.6743\n",
      "15m 3s (- 2m 14s) (43500 87%) 1.6601\n",
      "15m 13s (- 2m 4s) (44000 88%) 1.5311\n",
      "15m 21s (- 1m 53s) (44500 89%) 1.6256\n",
      "15m 29s (- 1m 43s) (45000 90%) 1.5576\n",
      "15m 37s (- 1m 32s) (45500 91%) 1.5475\n",
      "15m 47s (- 1m 22s) (46000 92%) 1.5217\n",
      "15m 59s (- 1m 12s) (46500 93%) 1.5706\n",
      "16m 14s (- 1m 2s) (47000 94%) 1.6011\n",
      "16m 29s (- 0m 52s) (47500 95%) 1.5357\n",
      "16m 43s (- 0m 41s) (48000 96%) 1.5127\n",
      "16m 52s (- 0m 31s) (48500 97%) 1.5363\n",
      "17m 1s (- 0m 20s) (49000 98%) 1.5822\n",
      "17m 15s (- 0m 10s) (49500 99%) 1.5173\n",
      "17m 29s (- 0m 0s) (50000 100%) 1.5763\n"
     ]
    },
    {
     "data": {
      "text/plain": [
       "<Figure size 432x288 with 0 Axes>"
      ]
     },
     "metadata": {},
     "output_type": "display_data"
    },
    {
     "data": {
      "image/png": "[encoded data removed]",
      "text/plain": [
       "<Figure size 432x288 with 1 Axes>"
      ]
     },
     "metadata": {
      "needs_background": "light"
     },
     "output_type": "display_data"
    }
   ],
   "source": [
    "run_training(encoder, decoder, n_iters, print_every=500)"
   ]
  },
  {
   "cell_type": "code",
   "execution_count": 36,
   "metadata": {},
   "outputs": [
    {
     "name": "stdout",
     "output_type": "stream",
     "text": [
      "> я не пытаюсь произвести на вас впечатление .\n",
      "= i m not trying to impress you .\n",
      "< i m not trying to help you .\n",
      "\n",
      "> вы мошенница .\n",
      "= you re a fraud .\n",
      "< you re a doctor .\n",
      "\n",
      "> я недостаточно хорош для тебя .\n",
      "= i m not good enough for you .\n",
      "< i m not older than you .\n",
      "\n",
      "> я не собираюсь плакать .\n",
      "= i m not going to cry .\n",
      "< i m not going to go .\n",
      "\n",
      "> она далеко не красива .\n",
      "= she is far from beautiful .\n",
      "< she is not related .\n",
      "\n",
      "> она занимается английским каждый день .\n",
      "= she studies english every day .\n",
      "< she is going to the same right .\n",
      "\n",
      "> ты заставляешь меня тратить время .\n",
      "= you re making me waste time .\n",
      "< you re just wasting time .\n",
      "\n",
      "> она совершенно голая .\n",
      "= she s stark naked .\n",
      "< she is a beautiful .\n",
      "\n",
      "> я слабый .\n",
      "= i m weak .\n",
      "< i m a student .\n",
      "\n",
      "> ты не в моём вкусе .\n",
      "= you re not my type .\n",
      "< you re not in love .\n",
      "\n"
     ]
    }
   ],
   "source": [
    "evaluate_randomly(encoder, decoder)"
   ]
  },
  {
   "cell_type": "code",
   "execution_count": 37,
   "metadata": {
    "scrolled": false
   },
   "outputs": [
    {
     "name": "stdout",
     "output_type": "stream",
     "text": [
      "input = я очень осторожна .\n",
      "output = i m very tired .\n"
     ]
    },
    {
     "data": {
      "image/png": "[encoded data removed]",
      "text/plain": [
       "<Figure size 432x288 with 2 Axes>"
      ]
     },
     "metadata": {
      "needs_background": "light"
     },
     "output_type": "display_data"
    },
    {
     "name": "stdout",
     "output_type": "stream",
     "text": [
      "input = они всё ещё живут со своими родителями .\n",
      "output = they re still looking for all .\n"
     ]
    },
    {
     "data": {
      "image/png": "[encoded data removed]",
      "text/plain": [
       "<Figure size 432x288 with 2 Axes>"
      ]
     },
     "metadata": {
      "needs_background": "light"
     },
     "output_type": "display_data"
    }
   ],
   "source": [
    "def showAttention(input_sentence, output_words, attentions):\n",
    "    # Set up figure with colorbar\n",
    "    fig = plt.figure()\n",
    "    ax = fig.add_subplot(111)\n",
    "    cax = ax.matshow(attentions.numpy(), cmap='bone')\n",
    "    fig.colorbar(cax)\n",
    "\n",
    "    # Set up axes\n",
    "    ax.set_yticklabels([''] + input_sentence.split(' ') +\n",
    "                       ['<EOS>'], rotation=90)\n",
    "    ax.set_xticklabels([''] + output_words)\n",
    "\n",
    "    # Show label at every tick\n",
    "    ax.xaxis.set_major_locator(ticker.MultipleLocator(1))\n",
    "    ax.yaxis.set_major_locator(ticker.MultipleLocator(1))\n",
    "\n",
    "    plt.show()\n",
    "\n",
    "\n",
    "def evaluateAndShowAttention(input_sentence):\n",
    "    output_words, attentions = evaluate(encoder, decoder, input_sentence)\n",
    "    attentions = torch.cat(attentions).squeeze().cpu()\n",
    "    print('input =', input_sentence)\n",
    "    print('output =', ' '.join(output_words))\n",
    "    showAttention(input_sentence, output_words, attentions)\n",
    "\n",
    "\n",
    "evaluateAndShowAttention(\"я очень осторожна .\")\n",
    "evaluateAndShowAttention(\"они всё ещё живут со своими родителями .\")"
   ]
  },
  {
   "cell_type": "code",
   "execution_count": null,
   "metadata": {},
   "outputs": [],
   "source": []
  }
 ],
 "metadata": {
  "kernelspec": {
   "display_name": "Python 3",
   "language": "python",
   "name": "python3"
  },
  "language_info": {
   "codemirror_mode": {
    "name": "ipython",
    "version": 3
   },
   "file_extension": ".py",
   "mimetype": "text/x-python",
   "name": "python",
   "nbconvert_exporter": "python",
   "pygments_lexer": "ipython3",
   "version": "3.6.8"
  }
 },
 "nbformat": 4,
 "nbformat_minor": 2
}
